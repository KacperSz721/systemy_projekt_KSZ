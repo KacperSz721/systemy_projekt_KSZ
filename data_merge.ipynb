{
 "cells": [
  {
   "cell_type": "code",
   "execution_count": 1,
   "id": "initial_id",
   "metadata": {
    "collapsed": true,
    "ExecuteTime": {
     "end_time": "2025-01-17T10:11:15.594792Z",
     "start_time": "2025-01-17T10:11:15.152529Z"
    }
   },
   "outputs": [],
   "source": [
    "import pandas as pd\n",
    "import numpy as np"
   ]
  },
  {
   "cell_type": "code",
   "outputs": [],
   "source": [
    "# Define paths to the CSV files\n",
    "paths = ['csv_files/data_books.csv', 'csv_files/data_books2.csv', 'csv_files/data_books3.csv', 'csv_files/data_books4.csv', 'csv_files/data_books5.csv', 'csv_files/data_books6.csv','csv_files/data_books7.csv','csv_files/data_books8.csv','csv_files/data_books9.csv','csv_files/data_books10.csv']\n",
    "\n",
    "# Read each CSV file into a DataFrame and store them in a list\n",
    "dataframes = [pd.read_csv(path) for path in paths]\n",
    "\n",
    "# Merge all DataFrames into a single DataFrame\n",
    "merged_dataframe = pd.concat(dataframes, ignore_index=True)\n",
    "\n",
    "# Display the first few rows of the merged DataFrame\n",
    "merged_dataframe['has_description'] = merged_dataframe['description'] != 'Ta książka nie posiada jeszcze opisu.'\n",
    "merged_dataframe['release_date'] = pd.to_datetime(merged_dataframe['release_date'])\n",
    "merged_dataframe['year'] = merged_dataframe['release_date'].dt.year\n",
    "merged_dataframe['avg_score'] = merged_dataframe['avg_score'].str.replace(',', '.').astype(float)\n",
    "merged_dataframe = merged_dataframe.drop_duplicates(subset=['title'])\n",
    "# Optionally, save the merged DataFrame to a new CSV file\n",
    "merged_dataframe.to_csv('merged_data_books.csv', index=False)\n"
   ],
   "metadata": {
    "collapsed": false,
    "ExecuteTime": {
     "end_time": "2025-01-17T11:00:34.149623Z",
     "start_time": "2025-01-17T11:00:32.675735Z"
    }
   },
   "id": "5c42015d2ea9a10b",
   "execution_count": 5
  },
  {
   "cell_type": "code",
   "outputs": [
    {
     "data": {
      "text/plain": "                                               title              author  \\\n0  Duchowieństwo katolickie diecezji śląskiej (ka...       Henryk Olszar   \n1               Ojciec i syn: Fascynujące wpomnienia  Szczepan Kurzymski   \n2                Izabela Jagiellonka. Królowa Węgier  Małgorzata Duczmal   \n3                    Ramajana Najstarsza Baśń Świata         Ewa Kmiecik   \n4          Podkowa Leśna i Stawisko Szkice z dziejów       Janusz Kubiak   \n\n  release_date  page_count language  \\\n0   2000-01-01       664.0   polski   \n1   2000-01-01       241.0   polski   \n2   2000-01-01       445.0   polski   \n3   2000-01-01        80.0   polski   \n4   2000-01-01         NaN   polski   \n\n                                           publisher  \\\n0                  Kuria Metropolitalna w Katowicach   \n1                                              Roxan   \n2                            Oficyna Wydawnicza RYTM   \n3                                              Natur   \n4  Towarzystwo Przyjaciół Miasta-Ogrodu Podkowa L...   \n\n                                 genre  format  reviews  ratings  \\\n0  biografia, autobiografia, pamiętnik  papier        0        0   \n1  biografia, autobiografia, pamiętnik  papier        2        0   \n2  biografia, autobiografia, pamiętnik  papier       13        2   \n3             baśnie, legendy, podania  papier        0        0   \n4  biografia, autobiografia, pamiętnik  papier        1        0   \n\n                                         description  avg_score  \\\n0              Ta książka nie posiada jeszcze opisu.        0.0   \n1              Ta książka nie posiada jeszcze opisu.        9.0   \n2  Izabela Jagiellonka (1519-1559),królowa Węgier...        6.2   \n3  Najstarsza Baśń Świata czyli Opowieść o Panu R...        0.0   \n4  Opracowania dotyczące Podkowy Leśnej i Stawisk...        7.0   \n\n            ibsn                                               link  \\\n0  9788377937501  https://lubimyczytac.pl/ksiazka/5169324/duchow...   \n1  9788391228890  https://lubimyczytac.pl/ksiazka/200293/ojciec-...   \n2     8387893749  https://lubimyczytac.pl/ksiazka/183435/izabela...   \n3     8390897121  https://lubimyczytac.pl/ksiazka/5124637/ramaja...   \n4     8390924420  https://lubimyczytac.pl/ksiazka/4862818/podkow...   \n\n   has_description  year  \n0            False  2000  \n1            False  2000  \n2             True  2000  \n3             True  2000  \n4             True  2000  ",
      "text/html": "<div>\n<style scoped>\n    .dataframe tbody tr th:only-of-type {\n        vertical-align: middle;\n    }\n\n    .dataframe tbody tr th {\n        vertical-align: top;\n    }\n\n    .dataframe thead th {\n        text-align: right;\n    }\n</style>\n<table border=\"1\" class=\"dataframe\">\n  <thead>\n    <tr style=\"text-align: right;\">\n      <th></th>\n      <th>title</th>\n      <th>author</th>\n      <th>release_date</th>\n      <th>page_count</th>\n      <th>language</th>\n      <th>publisher</th>\n      <th>genre</th>\n      <th>format</th>\n      <th>reviews</th>\n      <th>ratings</th>\n      <th>description</th>\n      <th>avg_score</th>\n      <th>ibsn</th>\n      <th>link</th>\n      <th>has_description</th>\n      <th>year</th>\n    </tr>\n  </thead>\n  <tbody>\n    <tr>\n      <th>0</th>\n      <td>Duchowieństwo katolickie diecezji śląskiej (ka...</td>\n      <td>Henryk Olszar</td>\n      <td>2000-01-01</td>\n      <td>664.0</td>\n      <td>polski</td>\n      <td>Kuria Metropolitalna w Katowicach</td>\n      <td>biografia, autobiografia, pamiętnik</td>\n      <td>papier</td>\n      <td>0</td>\n      <td>0</td>\n      <td>Ta książka nie posiada jeszcze opisu.</td>\n      <td>0.0</td>\n      <td>9788377937501</td>\n      <td>https://lubimyczytac.pl/ksiazka/5169324/duchow...</td>\n      <td>False</td>\n      <td>2000</td>\n    </tr>\n    <tr>\n      <th>1</th>\n      <td>Ojciec i syn: Fascynujące wpomnienia</td>\n      <td>Szczepan Kurzymski</td>\n      <td>2000-01-01</td>\n      <td>241.0</td>\n      <td>polski</td>\n      <td>Roxan</td>\n      <td>biografia, autobiografia, pamiętnik</td>\n      <td>papier</td>\n      <td>2</td>\n      <td>0</td>\n      <td>Ta książka nie posiada jeszcze opisu.</td>\n      <td>9.0</td>\n      <td>9788391228890</td>\n      <td>https://lubimyczytac.pl/ksiazka/200293/ojciec-...</td>\n      <td>False</td>\n      <td>2000</td>\n    </tr>\n    <tr>\n      <th>2</th>\n      <td>Izabela Jagiellonka. Królowa Węgier</td>\n      <td>Małgorzata Duczmal</td>\n      <td>2000-01-01</td>\n      <td>445.0</td>\n      <td>polski</td>\n      <td>Oficyna Wydawnicza RYTM</td>\n      <td>biografia, autobiografia, pamiętnik</td>\n      <td>papier</td>\n      <td>13</td>\n      <td>2</td>\n      <td>Izabela Jagiellonka (1519-1559),królowa Węgier...</td>\n      <td>6.2</td>\n      <td>8387893749</td>\n      <td>https://lubimyczytac.pl/ksiazka/183435/izabela...</td>\n      <td>True</td>\n      <td>2000</td>\n    </tr>\n    <tr>\n      <th>3</th>\n      <td>Ramajana Najstarsza Baśń Świata</td>\n      <td>Ewa Kmiecik</td>\n      <td>2000-01-01</td>\n      <td>80.0</td>\n      <td>polski</td>\n      <td>Natur</td>\n      <td>baśnie, legendy, podania</td>\n      <td>papier</td>\n      <td>0</td>\n      <td>0</td>\n      <td>Najstarsza Baśń Świata czyli Opowieść o Panu R...</td>\n      <td>0.0</td>\n      <td>8390897121</td>\n      <td>https://lubimyczytac.pl/ksiazka/5124637/ramaja...</td>\n      <td>True</td>\n      <td>2000</td>\n    </tr>\n    <tr>\n      <th>4</th>\n      <td>Podkowa Leśna i Stawisko Szkice z dziejów</td>\n      <td>Janusz Kubiak</td>\n      <td>2000-01-01</td>\n      <td>NaN</td>\n      <td>polski</td>\n      <td>Towarzystwo Przyjaciół Miasta-Ogrodu Podkowa L...</td>\n      <td>biografia, autobiografia, pamiętnik</td>\n      <td>papier</td>\n      <td>1</td>\n      <td>0</td>\n      <td>Opracowania dotyczące Podkowy Leśnej i Stawisk...</td>\n      <td>7.0</td>\n      <td>8390924420</td>\n      <td>https://lubimyczytac.pl/ksiazka/4862818/podkow...</td>\n      <td>True</td>\n      <td>2000</td>\n    </tr>\n  </tbody>\n</table>\n</div>"
     },
     "execution_count": 6,
     "metadata": {},
     "output_type": "execute_result"
    }
   ],
   "source": [
    "merged_dataframe.head()"
   ],
   "metadata": {
    "collapsed": false,
    "ExecuteTime": {
     "end_time": "2025-01-17T11:00:37.521446Z",
     "start_time": "2025-01-17T11:00:37.500174Z"
    }
   },
   "id": "f07866d865f72eb6",
   "execution_count": 6
  },
  {
   "cell_type": "code",
   "outputs": [
    {
     "data": {
      "text/plain": "(25044, 16)"
     },
     "execution_count": 7,
     "metadata": {},
     "output_type": "execute_result"
    }
   ],
   "source": [
    "merged_dataframe.shape"
   ],
   "metadata": {
    "collapsed": false,
    "ExecuteTime": {
     "end_time": "2025-01-17T11:00:41.037791Z",
     "start_time": "2025-01-17T11:00:41.030161Z"
    }
   },
   "id": "3ba4301b9e5ed8ac",
   "execution_count": 7
  },
  {
   "cell_type": "code",
   "outputs": [],
   "source": [],
   "metadata": {
    "collapsed": false
   },
   "id": "313581835ab8d002"
  }
 ],
 "metadata": {
  "kernelspec": {
   "display_name": "Python 3",
   "language": "python",
   "name": "python3"
  },
  "language_info": {
   "codemirror_mode": {
    "name": "ipython",
    "version": 2
   },
   "file_extension": ".py",
   "mimetype": "text/x-python",
   "name": "python",
   "nbconvert_exporter": "python",
   "pygments_lexer": "ipython2",
   "version": "2.7.6"
  }
 },
 "nbformat": 4,
 "nbformat_minor": 5
}
